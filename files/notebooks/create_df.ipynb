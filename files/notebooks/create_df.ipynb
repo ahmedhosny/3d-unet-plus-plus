{
 "cells": [
  {
   "cell_type": "code",
   "execution_count": 1,
   "metadata": {},
   "outputs": [],
   "source": [
    "import matplotlib.pyplot as plt\n",
    "import SimpleITK as sitk\n",
    "import numpy as np\n",
    "import pandas as pd\n",
    "import os\n",
    "from PIL import Image"
   ]
  },
  {
   "cell_type": "code",
   "execution_count": 2,
   "metadata": {},
   "outputs": [
    {
     "name": "stdout",
     "output_type": "stream",
     "text": [
      "412 ['43062', '43370', '43392', '43402', '43421']\n"
     ]
    },
    {
     "ename": "NameError",
     "evalue": "name 'patid_list' is not defined",
     "output_type": "error",
     "traceback": [
      "\u001b[0;31m---------------------------------------------------------------------------\u001b[0m",
      "\u001b[0;31mNameError\u001b[0m                                 Traceback (most recent call last)",
      "\u001b[0;32m<ipython-input-2-22bb15d0be1e>\u001b[0m in \u001b[0;36m<module>\u001b[0;34m\u001b[0m\n\u001b[1;32m     12\u001b[0m \u001b[0mdf\u001b[0m\u001b[0;34m[\u001b[0m\u001b[0;34m\"patient_id\"\u001b[0m\u001b[0;34m]\u001b[0m \u001b[0;34m=\u001b[0m \u001b[0mpatient_id_list\u001b[0m\u001b[0;34m\u001b[0m\u001b[0m\n\u001b[1;32m     13\u001b[0m \u001b[0;31m#\u001b[0m\u001b[0;34m\u001b[0m\u001b[0;34m\u001b[0m\u001b[0m\n\u001b[0;32m---> 14\u001b[0;31m \u001b[0mdf\u001b[0m\u001b[0;34m[\u001b[0m\u001b[0;34m\"image_raw\"\u001b[0m\u001b[0;34m]\u001b[0m \u001b[0;34m=\u001b[0m \u001b[0;34m[\u001b[0m\u001b[0;34m\"/mnt/aertslab/USERS/Ahmed/0_FINAL_SEGMENTAION_DATA/maastro/0_image_raw/maastro_{}_image_raw_raw_raw_xx.nrrd\"\u001b[0m\u001b[0;34m.\u001b[0m\u001b[0mformat\u001b[0m\u001b[0;34m(\u001b[0m\u001b[0mx\u001b[0m\u001b[0;34m)\u001b[0m \u001b[0;32mfor\u001b[0m \u001b[0mx\u001b[0m \u001b[0;32min\u001b[0m \u001b[0mpatid_list\u001b[0m\u001b[0;34m]\u001b[0m\u001b[0;34m\u001b[0m\u001b[0m\n\u001b[0m\u001b[1;32m     15\u001b[0m \u001b[0mdf\u001b[0m\u001b[0;34m[\u001b[0m\u001b[0;34m\"label_raw\"\u001b[0m\u001b[0;34m]\u001b[0m \u001b[0;34m=\u001b[0m \u001b[0;34m[\u001b[0m\u001b[0;34m\"/mnt/aertslab/USERS/Ahmed/0_FINAL_SEGMENTAION_DATA/maastro/1_label_raw/maastro_{}_label_raw_raw_raw_xx.nrrd\"\u001b[0m\u001b[0;34m.\u001b[0m\u001b[0mformat\u001b[0m\u001b[0;34m(\u001b[0m\u001b[0mx\u001b[0m\u001b[0;34m)\u001b[0m \u001b[0;32mfor\u001b[0m \u001b[0mx\u001b[0m \u001b[0;32min\u001b[0m \u001b[0mpatid_list\u001b[0m\u001b[0;34m]\u001b[0m\u001b[0;34m\u001b[0m\u001b[0m\n\u001b[1;32m     16\u001b[0m \u001b[0;31m#\u001b[0m\u001b[0;34m\u001b[0m\u001b[0;34m\u001b[0m\u001b[0m\n",
      "\u001b[0;31mNameError\u001b[0m: name 'patid_list' is not defined"
     ]
    }
   ],
   "source": [
    "# check correct docker volume mounting!\n",
    "path_to_image = \"/mnt/aertslab/USERS/Ahmed/0_FINAL_SEGMENTAION_DATA/maastro/0_image_raw\"\n",
    "\n",
    "df = pd.DataFrame()\n",
    "patient_id_list = []\n",
    "for patient in (sorted(os.listdir(path_to_image))):\n",
    "    patient_id_list.append(patient.split(\"_\")[1])\n",
    "    \n",
    "print (len(patient_id_list), patient_id_list[:5])\n",
    "\n",
    "df[\"dataset\"] = [\"maastro\" for x in range(len(patient_id_list))]\n",
    "df[\"patient_id\"] = patient_id_list\n",
    "#\n",
    "df[\"image_raw\"] = [\"/mnt/aertslab/USERS/Ahmed/0_FINAL_SEGMENTAION_DATA/maastro/0_image_raw/maastro_{}_image_raw_raw_raw_xx.nrrd\".format(x) for x in patient_id_list]\n",
    "df[\"label_raw\"] = [\"/mnt/aertslab/USERS/Ahmed/0_FINAL_SEGMENTAION_DATA/maastro/1_label_raw/maastro_{}_label_raw_raw_raw_xx.nrrd\".format(x) for x in patient_id_list]\n",
    "#\n",
    "df[\"image_interpolated\"] = [\"/mnt/aertslab/USERS/Ahmed/0_FINAL_SEGMENTAION_DATA/maastro/3_image_interpolated/maastro_{}_image_interpolated_raw_raw_xx.nrrd\".format(x) for x in patient_id_list]\n",
    "df[\"label_interpolated\"] = [\"/mnt/aertslab/USERS/Ahmed/0_FINAL_SEGMENTAION_DATA/maastro/4_label_interpolated/maastro_{}_label_interpolated_raw_raw_xx.nrrd\".format(x) for x in patient_id_list]\n",
    "#\n",
    "df[\"image_interpolated_resized\"] = [\"/mnt/aertslab/USERS/Ahmed/0_FINAL_SEGMENTAION_DATA/maastro/5_image_interpolated_resized/maastro_{}_image_interpolated_resized_raw_xx.nrrd\".format(x) for x in patient_id_list]\n",
    "df[\"label_interpolated_resized\"] = [\"/mnt/aertslab/USERS/Ahmed/0_FINAL_SEGMENTAION_DATA/maastro/6_label_interpolated_resized/maastro_{}_label_interpolated_resized_raw_xx.nrrd\".format(x) for x in patient_id_list]\n",
    "#\n",
    "df[\"image_interpolated_resized_rescaled\"] = [\"/mnt/aertslab/USERS/Ahmed/0_FINAL_SEGMENTAION_DATA/maastro/7_image_interpolated_resized_rescaled/maastro_{}_image_interpolated_resized_rescaled_xx.nrrd\".format(x) for x in patient_id_list]\n",
    "df[\"label_interpolated_resized_rescaled\"] = [\"/mnt/aertslab/USERS/Ahmed/0_FINAL_SEGMENTAION_DATA/maastro/8_label_interpolated_resized_rescaled/maastro_{}_label_interpolated_resized_rescaled_xx.nrrd\".format(x) for x in patient_id_list]\n",
    "#\n",
    "df.head()\n",
    "df.to_csv(\"data.csv\")"
   ]
  },
  {
   "cell_type": "code",
   "execution_count": 5,
   "metadata": {},
   "outputs": [],
   "source": []
  },
  {
   "cell_type": "code",
   "execution_count": null,
   "metadata": {},
   "outputs": [],
   "source": [
    "/mnt/aertslab/USERS/Ahmed/0_FINAL_SEGMENTAION_DATA/maastro"
   ]
  }
 ],
 "metadata": {
  "kernelspec": {
   "display_name": "Python 3",
   "language": "python",
   "name": "python3"
  },
  "language_info": {
   "codemirror_mode": {
    "name": "ipython",
    "version": 3
   },
   "file_extension": ".py",
   "mimetype": "text/x-python",
   "name": "python",
   "nbconvert_exporter": "python",
   "pygments_lexer": "ipython3",
   "version": "3.5.2"
  }
 },
 "nbformat": 4,
 "nbformat_minor": 4
}
