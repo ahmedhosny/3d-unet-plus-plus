{
 "cells": [
  {
   "cell_type": "code",
   "execution_count": 2,
   "metadata": {},
   "outputs": [],
   "source": [
    "import matplotlib.pyplot as plt\n",
    "import SimpleITK as sitk\n",
    "import numpy as np\n",
    "import pandas as pd\n",
    "import os\n",
    "from PIL import Image\n",
    "from pprint import pprint"
   ]
  },
  {
   "cell_type": "code",
   "execution_count": 5,
   "metadata": {},
   "outputs": [
    {
     "name": "stdout",
     "output_type": "stream",
     "text": [
      "461 ['1-TC002', '1000-TC326', '1001-TC325', '1002-TC334', '1004-TC307']\n"
     ]
    }
   ],
   "source": [
    "# check correct docker volume mounting!\n",
    "d = \"harvard-rt\"\n",
    "path_to_image = \"/mnt/aertslab/USERS/Ahmed/0_FINAL_SEGMENTAION_DATA/{}/0_image_raw\".format(d)\n",
    "\n",
    "df = pd.DataFrame()\n",
    "patient_id_list = []\n",
    "for patient in (sorted(os.listdir(path_to_image))):\n",
    "    patient_id_list.append(patient.split(\"_\")[1])\n",
    "    \n",
    "print (len(patient_id_list), patient_id_list[:5])\n",
    "\n",
    "df[\"dataset\"] = [d for x in range(len(patient_id_list))]\n",
    "df[\"patient_id\"] = patient_id_list\n",
    "#\n",
    "df[\"image_raw\"] = [\"/mnt/aertslab/USERS/Ahmed/0_FINAL_SEGMENTAION_DATA/{}/0_image_raw/{}_{}_image_raw_raw_raw_xx.nrrd\".format(d, d, x) for x in patient_id_list]\n",
    "df[\"label_raw\"] = [\"/mnt/aertslab/USERS/Ahmed/0_FINAL_SEGMENTAION_DATA/{}/1_label_raw/{}_{}_label_raw_raw_raw_xx.nrrd\".format(d, d, x) for x in patient_id_list]\n",
    "#\n",
    "df[\"image_interpolated\"] = [\"/mnt/aertslab/USERS/Ahmed/0_FINAL_SEGMENTAION_DATA/{}/3_image_interpolated/{}_{}_image_interpolated_raw_raw_xx.nrrd\".format(d, d, x) for x in patient_id_list]\n",
    "df[\"label_interpolated\"] = [\"/mnt/aertslab/USERS/Ahmed/0_FINAL_SEGMENTAION_DATA/{}/4_label_interpolated/{}_{}_label_interpolated_raw_raw_xx.nrrd\".format(d, d, x) for x in patient_id_list]\n",
    "#\n",
    "df[\"image_interpolated_resized\"] = [\"/mnt/aertslab/USERS/Ahmed/0_FINAL_SEGMENTAION_DATA/{}/5_image_interpolated_resized/{}_{}_image_interpolated_resized_raw_xx.nrrd\".format(d, d, x) for x in patient_id_list]\n",
    "df[\"label_interpolated_resized\"] = [\"/mnt/aertslab/USERS/Ahmed/0_FINAL_SEGMENTAION_DATA/{}/6_label_interpolated_resized/{}_{}_label_interpolated_resized_raw_xx.nrrd\".format(d, d, x) for x in patient_id_list]\n",
    "#\n",
    "df[\"image_interpolated_resized_rescaled\"] = [\"/mnt/aertslab/USERS/Ahmed/0_FINAL_SEGMENTAION_DATA/{}/7_image_interpolated_resized_rescaled/{}_{}_image_interpolated_resized_rescaled_xx.nrrd\".format(d, d, x) for x in patient_id_list]\n",
    "df[\"label_interpolated_resized_rescaled\"] = [\"/mnt/aertslab/USERS/Ahmed/0_FINAL_SEGMENTAION_DATA/{}/8_label_interpolated_resized_rescaled/{}_{}_label_interpolated_resized_rescaled_xx.nrrd\".format(d, d, x) for x in patient_id_list]\n",
    "#\n",
    "df[\"image_interpolated_roi_gt\"] = [\"/mnt/aertslab/USERS/Ahmed/0_FINAL_SEGMENTAION_DATA/{}/9_image_interpolated_roi_gt/{}_{}_image_interpolated_roi_raw_gt.nrrd\".format(d, d, x) for x in patient_id_list]\n",
    "df[\"label_interpolated_roi_gt\"] = [\"/mnt/aertslab/USERS/Ahmed/0_FINAL_SEGMENTAION_DATA/{}/10_label_interpolated_roi_gt/{}_{}_label_interpolated_roi_raw_gt.nrrd\".format(d, d, x) for x in patient_id_list]\n",
    "#\n",
    "df[\"image_interpolated_roi_pr\"] = [\"/mnt/aertslab/USERS/Ahmed/0_FINAL_SEGMENTAION_DATA/{}/11_image_interpolated_roi_pr/{}_{}_image_interpolated_roi_raw_pr.nrrd\".format(d, d, x) for x in patient_id_list]\n",
    "df[\"label_interpolated_roi_pr\"] = [\"/mnt/aertslab/USERS/Ahmed/0_FINAL_SEGMENTAION_DATA/{}/12_label_interpolated_roi_pr/{}_{}_label_interpolated_roi_raw_pr.nrrd\".format(d, d, x) for x in patient_id_list]\n",
    "#\n",
    "\n"
   ]
  },
  {
   "cell_type": "code",
   "execution_count": 6,
   "metadata": {},
   "outputs": [],
   "source": [
    "# extra line for topcoder split\n",
    "_df = pd.read_csv(\"/mnt/aertslab/USERS/Ahmed/0_FINAL_SEGMENTAION_DATA/harvard-rt.csv\")\n",
    "df[\"topcoder_split\"] = [ _df[_df[\"topcoder_id\"]==X.split(\"-\")[1]].reset_index()[\"topcoder_split\"][0] \n",
    "                        for X in patient_id_list] "
   ]
  },
  {
   "cell_type": "code",
   "execution_count": 7,
   "metadata": {},
   "outputs": [],
   "source": [
    "df.to_csv(\"temp2.csv\")"
   ]
  },
  {
   "cell_type": "code",
   "execution_count": 12,
   "metadata": {},
   "outputs": [
    {
     "data": {
      "text/plain": [
       "(873, 14)"
      ]
     },
     "execution_count": 12,
     "metadata": {},
     "output_type": "execute_result"
    }
   ],
   "source": [
    "# test \n",
    "df = pd.read_csv(\"/mnt/aertslab/USERS/Ahmed/0_FINAL_SEGMENTAION_DATA/data.csv\")\n",
    "df.shape"
   ]
  },
  {
   "cell_type": "code",
   "execution_count": null,
   "metadata": {},
   "outputs": [],
   "source": []
  },
  {
   "cell_type": "code",
   "execution_count": null,
   "metadata": {},
   "outputs": [],
   "source": []
  },
  {
   "cell_type": "code",
   "execution_count": null,
   "metadata": {},
   "outputs": [],
   "source": []
  }
 ],
 "metadata": {
  "kernelspec": {
   "display_name": "Python 3",
   "language": "python",
   "name": "python3"
  },
  "language_info": {
   "codemirror_mode": {
    "name": "ipython",
    "version": 3
   },
   "file_extension": ".py",
   "mimetype": "text/x-python",
   "name": "python",
   "nbconvert_exporter": "python",
   "pygments_lexer": "ipython3",
   "version": "3.5.2"
  }
 },
 "nbformat": 4,
 "nbformat_minor": 4
}
